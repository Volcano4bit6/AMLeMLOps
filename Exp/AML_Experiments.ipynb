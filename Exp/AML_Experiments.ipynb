{
 "cells": [
  {
   "cell_type": "markdown",
   "id": "fd80fff1",
   "metadata": {
    "papermill": {
     "duration": 0.011722,
     "end_time": "2024-05-17T15:21:44.170387",
     "exception": false,
     "start_time": "2024-05-17T15:21:44.158665",
     "status": "completed"
    },
    "tags": []
   },
   "source": [
    "## Import Libraries"
   ]
  },
  {
   "cell_type": "code",
   "execution_count": 1,
   "id": "237bebd5",
   "metadata": {
    "papermill": {
     "duration": 3.408986,
     "end_time": "2024-05-17T15:21:47.590675",
     "exception": false,
     "start_time": "2024-05-17T15:21:44.181689",
     "status": "completed"
    },
    "tags": []
   },
   "outputs": [],
   "source": [
    "import pandas as pd\n",
    "import numpy as np\n",
    "import matplotlib.pyplot as plt\n",
    "import seaborn as sns\n",
    "%matplotlib inline\n",
    "\n",
    "import warnings\n",
    "warnings.filterwarnings(\"ignore\")\n",
    "\n",
    "from sklearn.pipeline import Pipeline\n",
    "from sklearn.impute import SimpleImputer\n",
    "from sklearn.preprocessing import RobustScaler, OrdinalEncoder\n",
    "from sklearn.compose import ColumnTransformer\n",
    "from sklearn.model_selection import GridSearchCV\n",
    "\n",
    "from sklearn.model_selection import train_test_split\n",
    "\n",
    "from sklearn.metrics import accuracy_score, f1_score, precision_score, recall_score, confusion_matrix, roc_auc_score, roc_curve\n",
    "from xgboost import XGBClassifier\n",
    "from sklearn.ensemble import RandomForestClassifier\n",
    "from sklearn.ensemble import ExtraTreesClassifier\n",
    "\n",
    "from sklearn.metrics import classification_report, confusion_matrix\n",
    "from imblearn.over_sampling import SMOTE\n",
    "from collections import Counter"
   ]
  },
  {
   "cell_type": "code",
   "execution_count": 2,
   "id": "10c278e5",
   "metadata": {
    "papermill": {
     "duration": 0.019765,
     "end_time": "2024-05-17T15:21:47.626625",
     "exception": false,
     "start_time": "2024-05-17T15:21:47.606860",
     "status": "completed"
    },
    "tags": []
   },
   "outputs": [],
   "source": [
    "data_path = \"../DATA/archive/HI-Small_Trans.csv\""
   ]
  },
  {
   "cell_type": "markdown",
   "id": "4e37e122",
   "metadata": {
    "papermill": {
     "duration": 0.010873,
     "end_time": "2024-05-17T15:21:47.649813",
     "exception": false,
     "start_time": "2024-05-17T15:21:47.638940",
     "status": "completed"
    },
    "tags": []
   },
   "source": [
    "## Load the raw data"
   ]
  },
  {
   "cell_type": "code",
   "execution_count": 3,
   "id": "dbe9b7b2",
   "metadata": {
    "papermill": {
     "duration": 17.442819,
     "end_time": "2024-05-17T15:22:05.103691",
     "exception": false,
     "start_time": "2024-05-17T15:21:47.660872",
     "status": "completed"
    },
    "tags": []
   },
   "outputs": [
    {
     "data": {
      "text/plain": [
       "(5078345, 11)"
      ]
     },
     "execution_count": 3,
     "metadata": {},
     "output_type": "execute_result"
    }
   ],
   "source": [
    "raw_df = pd.read_csv(data_path)\n",
    "\n",
    "raw_df.shape"
   ]
  },
  {
   "cell_type": "code",
   "execution_count": 4,
   "id": "a1901b99",
   "metadata": {
    "papermill": {
     "duration": 0.41785,
     "end_time": "2024-05-17T15:22:05.533700",
     "exception": false,
     "start_time": "2024-05-17T15:22:05.115850",
     "status": "completed"
    },
    "tags": []
   },
   "outputs": [
    {
     "data": {
      "text/plain": [
       "(50000, 11)"
      ]
     },
     "execution_count": 4,
     "metadata": {},
     "output_type": "execute_result"
    }
   ],
   "source": [
    "df = raw_df.sample(n=50000, random_state=1)\n",
    "\n",
    "df.shape"
   ]
  },
  {
   "cell_type": "code",
   "execution_count": 5,
   "id": "2d306f0e",
   "metadata": {
    "papermill": {
     "duration": 0.024351,
     "end_time": "2024-05-17T15:22:05.570073",
     "exception": false,
     "start_time": "2024-05-17T15:22:05.545722",
     "status": "completed"
    },
    "tags": []
   },
   "outputs": [
    {
     "data": {
      "text/plain": [
       "Index(['Timestamp', 'From Bank', 'Account', 'To Bank', 'Account.1',\n",
       "       'Amount Received', 'Receiving Currency', 'Amount Paid',\n",
       "       'Payment Currency', 'Payment Format', 'Is Laundering'],\n",
       "      dtype='object')"
      ]
     },
     "execution_count": 5,
     "metadata": {},
     "output_type": "execute_result"
    }
   ],
   "source": [
    "df.columns"
   ]
  },
  {
   "cell_type": "code",
   "execution_count": 6,
   "id": "29cc9901",
   "metadata": {
    "papermill": {
     "duration": 0.042651,
     "end_time": "2024-05-17T15:22:05.624797",
     "exception": false,
     "start_time": "2024-05-17T15:22:05.582146",
     "status": "completed"
    },
    "tags": []
   },
   "outputs": [
    {
     "data": {
      "text/html": [
       "<div>\n",
       "<style scoped>\n",
       "    .dataframe tbody tr th:only-of-type {\n",
       "        vertical-align: middle;\n",
       "    }\n",
       "\n",
       "    .dataframe tbody tr th {\n",
       "        vertical-align: top;\n",
       "    }\n",
       "\n",
       "    .dataframe thead th {\n",
       "        text-align: right;\n",
       "    }\n",
       "</style>\n",
       "<table border=\"1\" class=\"dataframe\">\n",
       "  <thead>\n",
       "    <tr style=\"text-align: right;\">\n",
       "      <th></th>\n",
       "      <th>Timestamp</th>\n",
       "      <th>From Bank</th>\n",
       "      <th>Account</th>\n",
       "      <th>To Bank</th>\n",
       "      <th>Account.1</th>\n",
       "      <th>Amount Received</th>\n",
       "      <th>Receiving Currency</th>\n",
       "      <th>Amount Paid</th>\n",
       "      <th>Payment Currency</th>\n",
       "      <th>Payment Format</th>\n",
       "      <th>Is Laundering</th>\n",
       "    </tr>\n",
       "  </thead>\n",
       "  <tbody>\n",
       "    <tr>\n",
       "      <th>4205263</th>\n",
       "      <td>2022/09/08 23:03</td>\n",
       "      <td>70</td>\n",
       "      <td>100428A08</td>\n",
       "      <td>148586</td>\n",
       "      <td>8120D5550</td>\n",
       "      <td>13204.53</td>\n",
       "      <td>Saudi Riyal</td>\n",
       "      <td>13204.53</td>\n",
       "      <td>Saudi Riyal</td>\n",
       "      <td>Cash</td>\n",
       "      <td>0</td>\n",
       "    </tr>\n",
       "    <tr>\n",
       "      <th>3270156</th>\n",
       "      <td>2022/09/07 00:15</td>\n",
       "      <td>1132</td>\n",
       "      <td>80C50E4A0</td>\n",
       "      <td>28</td>\n",
       "      <td>80B7644F0</td>\n",
       "      <td>329.94</td>\n",
       "      <td>Mexican Peso</td>\n",
       "      <td>329.94</td>\n",
       "      <td>Mexican Peso</td>\n",
       "      <td>Credit Card</td>\n",
       "      <td>0</td>\n",
       "    </tr>\n",
       "    <tr>\n",
       "      <th>2669041</th>\n",
       "      <td>2022/09/05 18:41</td>\n",
       "      <td>70</td>\n",
       "      <td>1004288E8</td>\n",
       "      <td>32814</td>\n",
       "      <td>80C1FC0D0</td>\n",
       "      <td>54497.52</td>\n",
       "      <td>Mexican Peso</td>\n",
       "      <td>54497.52</td>\n",
       "      <td>Mexican Peso</td>\n",
       "      <td>Credit Card</td>\n",
       "      <td>0</td>\n",
       "    </tr>\n",
       "  </tbody>\n",
       "</table>\n",
       "</div>"
      ],
      "text/plain": [
       "                Timestamp  From Bank    Account  To Bank  Account.1  \\\n",
       "4205263  2022/09/08 23:03         70  100428A08   148586  8120D5550   \n",
       "3270156  2022/09/07 00:15       1132  80C50E4A0       28  80B7644F0   \n",
       "2669041  2022/09/05 18:41         70  1004288E8    32814  80C1FC0D0   \n",
       "\n",
       "         Amount Received Receiving Currency  Amount Paid Payment Currency  \\\n",
       "4205263         13204.53        Saudi Riyal     13204.53      Saudi Riyal   \n",
       "3270156           329.94       Mexican Peso       329.94     Mexican Peso   \n",
       "2669041         54497.52       Mexican Peso     54497.52     Mexican Peso   \n",
       "\n",
       "        Payment Format  Is Laundering  \n",
       "4205263           Cash              0  \n",
       "3270156    Credit Card              0  \n",
       "2669041    Credit Card              0  "
      ]
     },
     "execution_count": 6,
     "metadata": {},
     "output_type": "execute_result"
    }
   ],
   "source": [
    "df.head(3)"
   ]
  },
  {
   "cell_type": "code",
   "execution_count": 7,
   "id": "7824ee29",
   "metadata": {
    "papermill": {
     "duration": 0.075396,
     "end_time": "2024-05-17T15:22:05.712456",
     "exception": false,
     "start_time": "2024-05-17T15:22:05.637060",
     "status": "completed"
    },
    "tags": []
   },
   "outputs": [
    {
     "name": "stdout",
     "output_type": "stream",
     "text": [
      "<class 'pandas.core.frame.DataFrame'>\n",
      "Index: 50000 entries, 4205263 to 1446591\n",
      "Data columns (total 11 columns):\n",
      " #   Column              Non-Null Count  Dtype  \n",
      "---  ------              --------------  -----  \n",
      " 0   Timestamp           50000 non-null  object \n",
      " 1   From Bank           50000 non-null  int64  \n",
      " 2   Account             50000 non-null  object \n",
      " 3   To Bank             50000 non-null  int64  \n",
      " 4   Account.1           50000 non-null  object \n",
      " 5   Amount Received     50000 non-null  float64\n",
      " 6   Receiving Currency  50000 non-null  object \n",
      " 7   Amount Paid         50000 non-null  float64\n",
      " 8   Payment Currency    50000 non-null  object \n",
      " 9   Payment Format      50000 non-null  object \n",
      " 10  Is Laundering       50000 non-null  int64  \n",
      "dtypes: float64(2), int64(3), object(6)\n",
      "memory usage: 4.6+ MB\n"
     ]
    }
   ],
   "source": [
    "df.info()"
   ]
  },
  {
   "cell_type": "code",
   "execution_count": 8,
   "id": "eb7bf42b",
   "metadata": {
    "papermill": {
     "duration": 0.02837,
     "end_time": "2024-05-17T15:22:05.752986",
     "exception": false,
     "start_time": "2024-05-17T15:22:05.724616",
     "status": "completed"
    },
    "tags": []
   },
   "outputs": [
    {
     "data": {
      "text/plain": [
       "From Bank\n",
       "70        4352\n",
       "12         794\n",
       "10         789\n",
       "1          585\n",
       "15         548\n",
       "          ... \n",
       "35764        1\n",
       "315832       1\n",
       "321151       1\n",
       "324818       1\n",
       "335948       1\n",
       "Name: count, Length: 3429, dtype: int64"
      ]
     },
     "execution_count": 8,
     "metadata": {},
     "output_type": "execute_result"
    }
   ],
   "source": [
    "df['From Bank'].value_counts()"
   ]
  },
  {
   "cell_type": "code",
   "execution_count": 9,
   "id": "fe068c5c",
   "metadata": {
    "papermill": {
     "duration": 0.027178,
     "end_time": "2024-05-17T15:22:05.792616",
     "exception": false,
     "start_time": "2024-05-17T15:22:05.765438",
     "status": "completed"
    },
    "tags": []
   },
   "outputs": [
    {
     "data": {
      "text/plain": [
       "To Bank\n",
       "12        415\n",
       "10        406\n",
       "15        397\n",
       "220       321\n",
       "1         292\n",
       "         ... \n",
       "313815      1\n",
       "348279      1\n",
       "324448      1\n",
       "329285      1\n",
       "310723      1\n",
       "Name: count, Length: 2135, dtype: int64"
      ]
     },
     "execution_count": 9,
     "metadata": {},
     "output_type": "execute_result"
    }
   ],
   "source": [
    "df['To Bank'].value_counts()"
   ]
  },
  {
   "cell_type": "code",
   "execution_count": 10,
   "id": "31d0d7b3",
   "metadata": {
    "papermill": {
     "duration": 0.217934,
     "end_time": "2024-05-17T15:22:06.022940",
     "exception": false,
     "start_time": "2024-05-17T15:22:05.805006",
     "status": "completed"
    },
    "tags": []
   },
   "outputs": [
    {
     "data": {
      "text/html": [
       "<div>\n",
       "<style scoped>\n",
       "    .dataframe tbody tr th:only-of-type {\n",
       "        vertical-align: middle;\n",
       "    }\n",
       "\n",
       "    .dataframe tbody tr th {\n",
       "        vertical-align: top;\n",
       "    }\n",
       "\n",
       "    .dataframe thead th {\n",
       "        text-align: right;\n",
       "    }\n",
       "</style>\n",
       "<table border=\"1\" class=\"dataframe\">\n",
       "  <thead>\n",
       "    <tr style=\"text-align: right;\">\n",
       "      <th></th>\n",
       "      <th>Account</th>\n",
       "      <th>Account.1</th>\n",
       "    </tr>\n",
       "  </thead>\n",
       "  <tbody>\n",
       "    <tr>\n",
       "      <th>count</th>\n",
       "      <td>50000</td>\n",
       "      <td>50000</td>\n",
       "    </tr>\n",
       "    <tr>\n",
       "      <th>unique</th>\n",
       "      <td>37434</td>\n",
       "      <td>44321</td>\n",
       "    </tr>\n",
       "    <tr>\n",
       "      <th>top</th>\n",
       "      <td>100428660</td>\n",
       "      <td>100428660</td>\n",
       "    </tr>\n",
       "    <tr>\n",
       "      <th>freq</th>\n",
       "      <td>1648</td>\n",
       "      <td>12</td>\n",
       "    </tr>\n",
       "  </tbody>\n",
       "</table>\n",
       "</div>"
      ],
      "text/plain": [
       "          Account  Account.1\n",
       "count       50000      50000\n",
       "unique      37434      44321\n",
       "top     100428660  100428660\n",
       "freq         1648         12"
      ]
     },
     "execution_count": 10,
     "metadata": {},
     "output_type": "execute_result"
    }
   ],
   "source": [
    "df[['Account', 'Account.1']].describe()"
   ]
  },
  {
   "cell_type": "code",
   "execution_count": 11,
   "id": "e2330305",
   "metadata": {
    "papermill": {
     "duration": 0.025909,
     "end_time": "2024-05-17T15:22:06.061914",
     "exception": false,
     "start_time": "2024-05-17T15:22:06.036005",
     "status": "completed"
    },
    "tags": []
   },
   "outputs": [
    {
     "data": {
      "text/plain": [
       "Is Laundering\n",
       "0    49934\n",
       "1       66\n",
       "Name: count, dtype: int64"
      ]
     },
     "execution_count": 11,
     "metadata": {},
     "output_type": "execute_result"
    }
   ],
   "source": [
    "df['Is Laundering'].value_counts()"
   ]
  },
  {
   "cell_type": "code",
   "execution_count": 12,
   "id": "03efaa3e",
   "metadata": {
    "papermill": {
     "duration": 0.273724,
     "end_time": "2024-05-17T15:22:06.349286",
     "exception": false,
     "start_time": "2024-05-17T15:22:06.075562",
     "status": "completed"
    },
    "tags": []
   },
   "outputs": [
    {
     "data": {
      "text/plain": [
       "<Axes: xlabel='Is Laundering', ylabel='count'>"
      ]
     },
     "execution_count": 12,
     "metadata": {},
     "output_type": "execute_result"
    },
    {
     "data": {
      "image/png": "[encoded data removed]",
      "text/plain": [
       "<Figure size 640x480 with 1 Axes>"
      ]
     },
     "metadata": {},
     "output_type": "display_data"
    }
   ],
   "source": [
    "sns.countplot(data=df, x='Is Laundering')"
   ]
  },
  {
   "cell_type": "code",
   "execution_count": 13,
   "id": "4912f071",
   "metadata": {
    "papermill": {
     "duration": 0.042985,
     "end_time": "2024-05-17T15:22:06.407055",
     "exception": false,
     "start_time": "2024-05-17T15:22:06.364070",
     "status": "completed"
    },
    "tags": []
   },
   "outputs": [
    {
     "data": {
      "text/html": [
       "<div>\n",
       "<style scoped>\n",
       "    .dataframe tbody tr th:only-of-type {\n",
       "        vertical-align: middle;\n",
       "    }\n",
       "\n",
       "    .dataframe tbody tr th {\n",
       "        vertical-align: top;\n",
       "    }\n",
       "\n",
       "    .dataframe thead th {\n",
       "        text-align: right;\n",
       "    }\n",
       "</style>\n",
       "<table border=\"1\" class=\"dataframe\">\n",
       "  <thead>\n",
       "    <tr style=\"text-align: right;\">\n",
       "      <th></th>\n",
       "      <th>From Bank</th>\n",
       "      <th>Account</th>\n",
       "      <th>To Bank</th>\n",
       "      <th>Account.1</th>\n",
       "      <th>Amount Received</th>\n",
       "      <th>Receiving Currency</th>\n",
       "      <th>Payment Format</th>\n",
       "      <th>Is Laundering</th>\n",
       "    </tr>\n",
       "  </thead>\n",
       "  <tbody>\n",
       "    <tr>\n",
       "      <th>4205263</th>\n",
       "      <td>70</td>\n",
       "      <td>100428A08</td>\n",
       "      <td>148586</td>\n",
       "      <td>8120D5550</td>\n",
       "      <td>13204.53</td>\n",
       "      <td>Saudi Riyal</td>\n",
       "      <td>Cash</td>\n",
       "      <td>0</td>\n",
       "    </tr>\n",
       "    <tr>\n",
       "      <th>3270156</th>\n",
       "      <td>1132</td>\n",
       "      <td>80C50E4A0</td>\n",
       "      <td>28</td>\n",
       "      <td>80B7644F0</td>\n",
       "      <td>329.94</td>\n",
       "      <td>Mexican Peso</td>\n",
       "      <td>Credit Card</td>\n",
       "      <td>0</td>\n",
       "    </tr>\n",
       "  </tbody>\n",
       "</table>\n",
       "</div>"
      ],
      "text/plain": [
       "         From Bank    Account  To Bank  Account.1  Amount Received  \\\n",
       "4205263         70  100428A08   148586  8120D5550         13204.53   \n",
       "3270156       1132  80C50E4A0       28  80B7644F0           329.94   \n",
       "\n",
       "        Receiving Currency Payment Format  Is Laundering  \n",
       "4205263        Saudi Riyal           Cash              0  \n",
       "3270156       Mexican Peso    Credit Card              0  "
      ]
     },
     "execution_count": 13,
     "metadata": {},
     "output_type": "execute_result"
    }
   ],
   "source": [
    "## Dropping some columns\n",
    "\n",
    "cols_to_drop = ['Timestamp', 'Amount Paid', 'Payment Currency']\n",
    "\n",
    "df.drop(cols_to_drop, axis=1, inplace=True)\n",
    "\n",
    "df.head(2)"
   ]
  },
  {
   "cell_type": "code",
   "execution_count": 14,
   "id": "878f9be7",
   "metadata": {
    "papermill": {
     "duration": 0.027673,
     "end_time": "2024-05-17T15:22:06.448611",
     "exception": false,
     "start_time": "2024-05-17T15:22:06.420938",
     "status": "completed"
    },
    "tags": []
   },
   "outputs": [
    {
     "data": {
      "text/plain": [
       "Index(['From Bank', 'To Bank', 'Amount Received', 'Is Laundering'], dtype='object')"
      ]
     },
     "execution_count": 14,
     "metadata": {},
     "output_type": "execute_result"
    }
   ],
   "source": [
    "numeric_cols = df.select_dtypes(exclude=\"object\").columns\n",
    "\n",
    "numeric_cols"
   ]
  },
  {
   "cell_type": "code",
   "execution_count": 15,
   "id": "ab33970e",
   "metadata": {
    "papermill": {
     "duration": 0.036476,
     "end_time": "2024-05-17T15:22:06.498980",
     "exception": false,
     "start_time": "2024-05-17T15:22:06.462504",
     "status": "completed"
    },
    "tags": []
   },
   "outputs": [
    {
     "data": {
      "text/plain": [
       "Index(['Account', 'Account.1', 'Receiving Currency', 'Payment Format'], dtype='object')"
      ]
     },
     "execution_count": 15,
     "metadata": {},
     "output_type": "execute_result"
    }
   ],
   "source": [
    "categorical_cols = df.select_dtypes(include=\"object\").columns\n",
    "\n",
    "categorical_cols"
   ]
  },
  {
   "cell_type": "code",
   "execution_count": 16,
   "id": "a5282e7e",
   "metadata": {
    "papermill": {
     "duration": 0.127483,
     "end_time": "2024-05-17T15:22:06.640528",
     "exception": false,
     "start_time": "2024-05-17T15:22:06.513045",
     "status": "completed"
    },
    "tags": []
   },
   "outputs": [
    {
     "name": "stdout",
     "output_type": "stream",
     "text": [
      "Unique columns in the DataFrame: \n",
      " Account               37434\n",
      "Account.1             44321\n",
      "Receiving Currency       15\n",
      "Payment Format            7\n",
      "dtype: int64\n"
     ]
    }
   ],
   "source": [
    "## Unique columns in df\n",
    "\n",
    "unique_counts = df[categorical_cols].nunique()\n",
    "print(\"Unique columns in the DataFrame: \\n\", unique_counts)"
   ]
  },
  {
   "cell_type": "code",
   "execution_count": 17,
   "id": "8e671555",
   "metadata": {
    "papermill": {
     "duration": 0.030974,
     "end_time": "2024-05-17T15:22:06.685261",
     "exception": false,
     "start_time": "2024-05-17T15:22:06.654287",
     "status": "completed"
    },
    "tags": []
   },
   "outputs": [
    {
     "data": {
      "text/html": [
       "<div>\n",
       "<style scoped>\n",
       "    .dataframe tbody tr th:only-of-type {\n",
       "        vertical-align: middle;\n",
       "    }\n",
       "\n",
       "    .dataframe tbody tr th {\n",
       "        vertical-align: top;\n",
       "    }\n",
       "\n",
       "    .dataframe thead th {\n",
       "        text-align: right;\n",
       "    }\n",
       "</style>\n",
       "<table border=\"1\" class=\"dataframe\">\n",
       "  <thead>\n",
       "    <tr style=\"text-align: right;\">\n",
       "      <th></th>\n",
       "      <th>From Bank</th>\n",
       "      <th>Account</th>\n",
       "      <th>To Bank</th>\n",
       "      <th>Account.1</th>\n",
       "      <th>Amount Received</th>\n",
       "      <th>Receiving Currency</th>\n",
       "      <th>Payment Format</th>\n",
       "      <th>Is Laundering</th>\n",
       "    </tr>\n",
       "  </thead>\n",
       "  <tbody>\n",
       "    <tr>\n",
       "      <th>4205263</th>\n",
       "      <td>70</td>\n",
       "      <td>100428A08</td>\n",
       "      <td>148586</td>\n",
       "      <td>8120D5550</td>\n",
       "      <td>13204.53</td>\n",
       "      <td>Saudi Riyal</td>\n",
       "      <td>Cash</td>\n",
       "      <td>0</td>\n",
       "    </tr>\n",
       "    <tr>\n",
       "      <th>3270156</th>\n",
       "      <td>1132</td>\n",
       "      <td>80C50E4A0</td>\n",
       "      <td>28</td>\n",
       "      <td>80B7644F0</td>\n",
       "      <td>329.94</td>\n",
       "      <td>Mexican Peso</td>\n",
       "      <td>Credit Card</td>\n",
       "      <td>0</td>\n",
       "    </tr>\n",
       "    <tr>\n",
       "      <th>2669041</th>\n",
       "      <td>70</td>\n",
       "      <td>1004288E8</td>\n",
       "      <td>32814</td>\n",
       "      <td>80C1FC0D0</td>\n",
       "      <td>54497.52</td>\n",
       "      <td>Mexican Peso</td>\n",
       "      <td>Credit Card</td>\n",
       "      <td>0</td>\n",
       "    </tr>\n",
       "  </tbody>\n",
       "</table>\n",
       "</div>"
      ],
      "text/plain": [
       "         From Bank    Account  To Bank  Account.1  Amount Received  \\\n",
       "4205263         70  100428A08   148586  8120D5550         13204.53   \n",
       "3270156       1132  80C50E4A0       28  80B7644F0           329.94   \n",
       "2669041         70  1004288E8    32814  80C1FC0D0         54497.52   \n",
       "\n",
       "        Receiving Currency Payment Format  Is Laundering  \n",
       "4205263        Saudi Riyal           Cash              0  \n",
       "3270156       Mexican Peso    Credit Card              0  \n",
       "2669041       Mexican Peso    Credit Card              0  "
      ]
     },
     "execution_count": 17,
     "metadata": {},
     "output_type": "execute_result"
    }
   ],
   "source": [
    "df.head(3)"
   ]
  },
  {
   "cell_type": "code",
   "execution_count": 18,
   "id": "6bdbad32",
   "metadata": {
    "papermill": {
     "duration": 0.025795,
     "end_time": "2024-05-17T15:22:06.725303",
     "exception": false,
     "start_time": "2024-05-17T15:22:06.699508",
     "status": "completed"
    },
    "tags": []
   },
   "outputs": [
    {
     "data": {
      "text/plain": [
       "Index(['From Bank', 'Account', 'To Bank', 'Account.1', 'Amount Received',\n",
       "       'Receiving Currency', 'Payment Format', 'Is Laundering'],\n",
       "      dtype='object')"
      ]
     },
     "execution_count": 18,
     "metadata": {},
     "output_type": "execute_result"
    }
   ],
   "source": [
    "df.columns"
   ]
  },
  {
   "cell_type": "code",
   "execution_count": 19,
   "id": "615c0d52",
   "metadata": {
    "papermill": {
     "duration": 0.032822,
     "end_time": "2024-05-17T15:22:06.772506",
     "exception": false,
     "start_time": "2024-05-17T15:22:06.739684",
     "status": "completed"
    },
    "tags": []
   },
   "outputs": [
    {
     "data": {
      "text/plain": [
       "Receiving Currency\n",
       "US Dollar            18395\n",
       "Euro                 11583\n",
       "Swiss Franc           2444\n",
       "Yuan                  1977\n",
       "Shekel                1923\n",
       "UK Pound              1819\n",
       "Rupee                 1804\n",
       "Yen                   1578\n",
       "Ruble                 1564\n",
       "Bitcoin               1483\n",
       "Australian Dollar     1401\n",
       "Canadian Dollar       1342\n",
       "Mexican Peso          1110\n",
       "Saudi Riyal            860\n",
       "Brazil Real            717\n",
       "Name: count, dtype: int64"
      ]
     },
     "execution_count": 19,
     "metadata": {},
     "output_type": "execute_result"
    }
   ],
   "source": [
    "df['Receiving Currency'].value_counts()"
   ]
  },
  {
   "cell_type": "code",
   "execution_count": 20,
   "id": "243def6e",
   "metadata": {
    "papermill": {
     "duration": 0.14713,
     "end_time": "2024-05-17T15:22:06.934116",
     "exception": false,
     "start_time": "2024-05-17T15:22:06.786986",
     "status": "completed"
    },
    "tags": []
   },
   "outputs": [
    {
     "data": {
      "text/plain": [
       "From Bank             0\n",
       "Account               0\n",
       "To Bank               0\n",
       "Account.1             0\n",
       "Amount Received       0\n",
       "Receiving Currency    0\n",
       "Payment Format        0\n",
       "Is Laundering         0\n",
       "dtype: int64"
      ]
     },
     "execution_count": 20,
     "metadata": {},
     "output_type": "execute_result"
    }
   ],
   "source": [
    "df.isnull().sum()"
   ]
  },
  {
   "cell_type": "markdown",
   "id": "a82f47da",
   "metadata": {
    "papermill": {
     "duration": 0.01423,
     "end_time": "2024-05-17T15:22:06.963422",
     "exception": false,
     "start_time": "2024-05-17T15:22:06.949192",
     "status": "completed"
    },
    "tags": []
   },
   "source": [
    "## Dividing into Independent and Dependent features"
   ]
  },
  {
   "cell_type": "code",
   "execution_count": 21,
   "id": "2e81f511",
   "metadata": {
    "papermill": {
     "duration": 0.032573,
     "end_time": "2024-05-17T15:22:07.010560",
     "exception": false,
     "start_time": "2024-05-17T15:22:06.977987",
     "status": "completed"
    },
    "tags": []
   },
   "outputs": [],
   "source": [
    "X = df.drop(columns=[\"Is Laundering\"], axis=1)\n",
    "y = df[\"Is Laundering\"]"
   ]
  },
  {
   "cell_type": "code",
   "execution_count": 22,
   "id": "6a163601",
   "metadata": {
    "papermill": {
     "duration": 0.028497,
     "end_time": "2024-05-17T15:22:07.053833",
     "exception": false,
     "start_time": "2024-05-17T15:22:07.025336",
     "status": "completed"
    },
    "tags": []
   },
   "outputs": [
    {
     "data": {
      "text/plain": [
       "Index(['From Bank', 'To Bank', 'Amount Received'], dtype='object')"
      ]
     },
     "execution_count": 22,
     "metadata": {},
     "output_type": "execute_result"
    }
   ],
   "source": [
    "numerical_features = X.select_dtypes(exclude=\"object\").columns\n",
    "\n",
    "numerical_features"
   ]
  },
  {
   "cell_type": "code",
   "execution_count": 23,
   "id": "35847754",
   "metadata": {
    "papermill": {
     "duration": 0.038548,
     "end_time": "2024-05-17T15:22:07.107725",
     "exception": false,
     "start_time": "2024-05-17T15:22:07.069177",
     "status": "completed"
    },
    "tags": []
   },
   "outputs": [
    {
     "data": {
      "text/plain": [
       "Index(['Account', 'Account.1', 'Receiving Currency', 'Payment Format'], dtype='object')"
      ]
     },
     "execution_count": 23,
     "metadata": {},
     "output_type": "execute_result"
    }
   ],
   "source": [
    "categorical_features = X.select_dtypes(include=\"object\").columns\n",
    "\n",
    "categorical_features"
   ]
  },
  {
   "cell_type": "markdown",
   "id": "07673810",
   "metadata": {
    "papermill": {
     "duration": 0.015324,
     "end_time": "2024-05-17T15:22:07.138250",
     "exception": false,
     "start_time": "2024-05-17T15:22:07.122926",
     "status": "completed"
    },
    "tags": []
   },
   "source": [
    "## Defining the Pipeline"
   ]
  },
  {
   "cell_type": "code",
   "execution_count": 24,
   "id": "9bdd2ee9",
   "metadata": {
    "papermill": {
     "duration": 0.027746,
     "end_time": "2024-05-17T15:22:07.180879",
     "exception": false,
     "start_time": "2024-05-17T15:22:07.153133",
     "status": "completed"
    },
    "tags": []
   },
   "outputs": [],
   "source": [
    "## Define the pipeline\n",
    "\n",
    "num_pipeline = Pipeline(\n",
    "    steps=[\n",
    "        (\"imputer\", SimpleImputer(strategy=\"median\")),\n",
    "        (\"scaler\", RobustScaler())\n",
    "    ]\n",
    ")\n",
    "\n",
    "cat_pipeline = Pipeline(\n",
    "    steps=[\n",
    "        (\"imputer\", SimpleImputer(strategy=\"most_frequent\")),\n",
    "        (\"ordinalencoder\", OrdinalEncoder()),\n",
    "    ]\n",
    ")"
   ]
  },
  {
   "cell_type": "code",
   "execution_count": 25,
   "id": "3ecca38f",
   "metadata": {
    "papermill": {
     "duration": 0.025923,
     "end_time": "2024-05-17T15:22:07.223007",
     "exception": false,
     "start_time": "2024-05-17T15:22:07.197084",
     "status": "completed"
    },
    "tags": []
   },
   "outputs": [],
   "source": [
    "transformer = ColumnTransformer(transformers=[\n",
    "    (\"OrdinalEncoder\", OrdinalEncoder(handle_unknown='use_encoded_value', unknown_value=-1), categorical_features),\n",
    "    (\"RobustScaler\", RobustScaler(), numerical_features)\n",
    "], remainder=\"passthrough\")"
   ]
  },
  {
   "cell_type": "code",
   "execution_count": 26,
   "id": "92392f66",
   "metadata": {
    "papermill": {
     "duration": 0.046359,
     "end_time": "2024-05-17T15:22:07.284276",
     "exception": false,
     "start_time": "2024-05-17T15:22:07.237917",
     "status": "completed"
    },
    "tags": []
   },
   "outputs": [],
   "source": [
    "X_train, X_test, y_train, y_test = train_test_split(X, y, test_size=0.2, random_state=42)"
   ]
  },
  {
   "cell_type": "code",
   "execution_count": 27,
   "id": "059acfc2",
   "metadata": {
    "papermill": {
     "duration": 0.818163,
     "end_time": "2024-05-17T15:22:08.117694",
     "exception": false,
     "start_time": "2024-05-17T15:22:07.299531",
     "status": "completed"
    },
    "tags": []
   },
   "outputs": [],
   "source": [
    "X_train = transformer.fit_transform(X_train)\n",
    "X_test = transformer.transform(X_test)"
   ]
  },
  {
   "cell_type": "code",
   "execution_count": 28,
   "id": "0d33e7d9",
   "metadata": {
    "papermill": {
     "duration": 0.026679,
     "end_time": "2024-05-17T15:22:08.159641",
     "exception": false,
     "start_time": "2024-05-17T15:22:08.132962",
     "status": "completed"
    },
    "tags": []
   },
   "outputs": [
    {
     "data": {
      "text/plain": [
       "((40000, 7), (10000, 7))"
      ]
     },
     "execution_count": 28,
     "metadata": {},
     "output_type": "execute_result"
    }
   ],
   "source": [
    "X_train.shape, X_test.shape"
   ]
  },
  {
   "cell_type": "markdown",
   "id": "4c430a4b",
   "metadata": {
    "papermill": {
     "duration": 0.014676,
     "end_time": "2024-05-17T15:22:08.189427",
     "exception": false,
     "start_time": "2024-05-17T15:22:08.174751",
     "status": "completed"
    },
    "tags": []
   },
   "source": [
    "## Training Base Model"
   ]
  },
  {
   "cell_type": "code",
   "execution_count": 29,
   "id": "194d83da",
   "metadata": {
    "papermill": {
     "duration": 3.591248,
     "end_time": "2024-05-17T15:22:11.795747",
     "exception": false,
     "start_time": "2024-05-17T15:22:08.204499",
     "status": "completed"
    },
    "tags": []
   },
   "outputs": [
    {
     "name": "stdout",
     "output_type": "stream",
     "text": [
      "Fitting 2 folds for each of 9 candidates, totalling 18 fits\n",
      "[CV] END ...............................eta=0.1, max_depth=4; total time=   0.8s\n",
      "[CV] END ...............................eta=0.1, max_depth=4; total time=   0.1s\n",
      "[CV] END ...............................eta=0.1, max_depth=8; total time=   0.3s\n",
      "[CV] END ...............................eta=0.1, max_depth=8; total time=   0.1s\n",
      "[CV] END ..............................eta=0.1, max_depth=16; total time=   0.1s\n",
      "[CV] END ..............................eta=0.1, max_depth=16; total time=   0.1s\n",
      "[CV] END ...............................eta=0.2, max_depth=4; total time=   0.1s\n",
      "[CV] END ...............................eta=0.2, max_depth=4; total time=   0.4s\n",
      "[CV] END ...............................eta=0.2, max_depth=8; total time=   0.1s\n",
      "[CV] END ...............................eta=0.2, max_depth=8; total time=   0.1s\n",
      "[CV] END ..............................eta=0.2, max_depth=16; total time=   0.2s\n",
      "[CV] END ..............................eta=0.2, max_depth=16; total time=   0.1s\n",
      "[CV] END ...............................eta=0.3, max_depth=4; total time=   0.3s\n",
      "[CV] END ...............................eta=0.3, max_depth=4; total time=   0.2s\n",
      "[CV] END ...............................eta=0.3, max_depth=8; total time=   0.1s\n",
      "[CV] END ...............................eta=0.3, max_depth=8; total time=   0.1s\n",
      "[CV] END ..............................eta=0.3, max_depth=16; total time=   0.1s\n",
      "[CV] END ..............................eta=0.3, max_depth=16; total time=   0.1s\n",
      "Best Parameters:  {'eta': 0.1, 'max_depth': 4}\n",
      "Test AUC:  0.9215938027524249\n"
     ]
    }
   ],
   "source": [
    "param_grid = {\n",
    "    'max_depth': [4,8,16],\n",
    "    'eta': [0.1,0.2,0.3],\n",
    "}\n",
    "\n",
    "xgb = XGBClassifier(eval_metric='logloss', random_state=42)\n",
    "\n",
    "grid_search = GridSearchCV(\n",
    "    estimator=xgb,\n",
    "    param_grid=param_grid,\n",
    "    scoring='roc_auc',\n",
    "    cv=2,\n",
    "    verbose=2\n",
    ")\n",
    "\n",
    "grid_search.fit(X_train, y_train)\n",
    "\n",
    "print(\"Best Parameters: \", grid_search.best_params_)\n",
    "\n",
    "best_model = grid_search.best_estimator_\n",
    "\n",
    "y_pred = best_model.predict_proba(X_test)[:, 1]\n",
    "test_auc = roc_auc_score(y_test, y_pred)\n",
    "print(\"Test AUC: \", test_auc)"
   ]
  },
  {
   "cell_type": "code",
   "execution_count": 30,
   "id": "18d843a5",
   "metadata": {
    "papermill": {
     "duration": 0.287031,
     "end_time": "2024-05-17T15:22:12.098192",
     "exception": false,
     "start_time": "2024-05-17T15:22:11.811161",
     "status": "completed"
    },
    "tags": []
   },
   "outputs": [
    {
     "name": "stdout",
     "output_type": "stream",
     "text": [
      "Test Set AUC:  0.9215938027524249\n"
     ]
    },
    {
     "data": {
      "image/png": "[encoded data removed]",
      "text/plain": [
       "<Figure size 640x480 with 1 Axes>"
      ]
     },
     "metadata": {},
     "output_type": "display_data"
    }
   ],
   "source": [
    "from sklearn.metrics import roc_curve, roc_auc_score\n",
    "\n",
    "test_probabilities = best_model.predict_proba(X_test)[:, 1]\n",
    "\n",
    "test_auc = roc_auc_score(y_test, test_probabilities)\n",
    "print(\"Test Set AUC: \", test_auc)\n",
    "\n",
    "fpr, tpr, thresholds = roc_curve(y_test, test_probabilities)\n",
    "\n",
    "plt.figure()\n",
    "plt.plot(fpr, tpr, color='darkorange', lw=2, label='ROC curve (area = %0.2f)' % test_auc)\n",
    "plt.plot([0, 1], [0, 1], color='navy', lw=2, linestyle='--')\n",
    "plt.xlim([0.0, 1.0])\n",
    "plt.ylim([0.0, 1.05])\n",
    "plt.xlabel('False Positive Rate')\n",
    "plt.ylabel('True Positive Rate')\n",
    "plt.title('Receiver Operating Characteristic')\n",
    "plt.legend(loc=\"lower right\")\n",
    "plt.show();"
   ]
  },
  {
   "cell_type": "code",
   "execution_count": 31,
   "id": "b966f14e",
   "metadata": {
    "papermill": {
     "duration": 0.275196,
     "end_time": "2024-05-17T15:22:12.388975",
     "exception": false,
     "start_time": "2024-05-17T15:22:12.113779",
     "status": "completed"
    },
    "tags": []
   },
   "outputs": [
    {
     "name": "stdout",
     "output_type": "stream",
     "text": [
      "Desired TPR of around 90%:\n"
     ]
    },
    {
     "data": {
      "image/png": "[encoded data removed]",
      "text/plain": [
       "<Figure size 700x500 with 2 Axes>"
      ]
     },
     "metadata": {},
     "output_type": "display_data"
    },
    {
     "name": "stdout",
     "output_type": "stream",
     "text": [
      "False Positive Rate (FPR): 0.055\n",
      "True Positive Rate (TPR): 0.929\n"
     ]
    }
   ],
   "source": [
    "# Confusion Matrix, TPR, and FPR at around a TPR of 0.87\n",
    "desired_tpr = 0.92\n",
    "closest_threshold = thresholds[np.argmin(np.abs(tpr - desired_tpr))]\n",
    "print(f\"Desired TPR of around 90%:\")\n",
    "\n",
    "y_pred = (test_probabilities >= closest_threshold).astype(int)\n",
    "cm = confusion_matrix(y_test, y_pred)\n",
    "\n",
    "plt.figure(figsize=(7,5))\n",
    "sns.heatmap(cm, annot=True, fmt=\"d\", cmap=\"Blues\")\n",
    "plt.xlabel('Predicted labels')\n",
    "plt.ylabel('True labels')\n",
    "plt.title(f'Confusion Matrix at {desired_tpr*100}% TPR')\n",
    "plt.show()\n",
    "\n",
    "tn, fp, fn, tp = cm.ravel()\n",
    "fpr_cm = fp / (fp + tn)\n",
    "tpr_cm = tp / (tp + fn)\n",
    "\n",
    "print(f\"False Positive Rate (FPR): {fpr_cm:.3f}\")\n",
    "print(f\"True Positive Rate (TPR): {tpr_cm:.3f}\")"
   ]
  },
  {
   "cell_type": "code",
   "execution_count": 32,
   "id": "6d83d160",
   "metadata": {
    "papermill": {
     "duration": 0.04704,
     "end_time": "2024-05-17T15:22:12.452413",
     "exception": false,
     "start_time": "2024-05-17T15:22:12.405373",
     "status": "completed"
    },
    "tags": []
   },
   "outputs": [
    {
     "name": "stdout",
     "output_type": "stream",
     "text": [
      "              precision    recall  f1-score   support\n",
      "\n",
      "           0       1.00      0.94      0.97      9986\n",
      "           1       0.02      0.93      0.04        14\n",
      "\n",
      "    accuracy                           0.94     10000\n",
      "   macro avg       0.51      0.94      0.51     10000\n",
      "weighted avg       1.00      0.94      0.97     10000\n",
      "\n"
     ]
    }
   ],
   "source": [
    "from sklearn.metrics import classification_report\n",
    "\n",
    "print(classification_report(y_test, y_pred))"
   ]
  },
  {
   "cell_type": "markdown",
   "id": "5b30e105",
   "metadata": {
    "papermill": {
     "duration": 0.01577,
     "end_time": "2024-05-17T15:22:12.484678",
     "exception": false,
     "start_time": "2024-05-17T15:22:12.468908",
     "status": "completed"
    },
    "tags": []
   },
   "source": [
    "## Handling Data Imbalance using SMOTE"
   ]
  },
  {
   "cell_type": "code",
   "execution_count": 33,
   "id": "51587496",
   "metadata": {
    "papermill": {
     "duration": 0.063091,
     "end_time": "2024-05-17T15:22:12.563851",
     "exception": false,
     "start_time": "2024-05-17T15:22:12.500760",
     "status": "completed"
    },
    "tags": []
   },
   "outputs": [
    {
     "name": "stdout",
     "output_type": "stream",
     "text": [
      "=============================\n",
      "Class= 0, n=39948 (99.87%)\n",
      "Class= 1, n=52 (0.13%)\n",
      "=============================\n",
      "Class= 0, n=39948 (99.87%)\n",
      "Class= 1, n=39948 (99.87%)\n",
      "=============================\n",
      "Upsampled data shape:  (79896, 7) (79896,)\n"
     ]
    }
   ],
   "source": [
    "# upsampling using smote\n",
    "# upsampling using smote\n",
    "\n",
    "from imblearn.over_sampling import SMOTE\n",
    "from collections import Counter\n",
    "\n",
    "counter = Counter(y_train)\n",
    "\n",
    "print(\"=============================\")\n",
    "\n",
    "for k,v in counter.items():\n",
    "    per = 100*v/len(y_train)\n",
    "    print(f\"Class= {k}, n={v} ({per:.2f}%)\")\n",
    "\n",
    "oversample = SMOTE()\n",
    "X_train_os, y_train_os = oversample.fit_resample(X_train, y_train)\n",
    "\n",
    "counter = Counter(y_train_os)\n",
    "\n",
    "print(\"=============================\")\n",
    "\n",
    "for k,v in counter.items():\n",
    "    per = 100*v/len(y_train)\n",
    "    print(f\"Class= {k}, n={v} ({per:.2f}%)\")\n",
    "\n",
    "print(\"=============================\")\n",
    "\n",
    "print(\"Upsampled data shape: \", X_train_os.shape, y_train_os.shape)"
   ]
  },
  {
   "cell_type": "code",
   "execution_count": 34,
   "id": "bbf8fd41",
   "metadata": {
    "papermill": {
     "duration": 0.040612,
     "end_time": "2024-05-17T15:22:12.621798",
     "exception": false,
     "start_time": "2024-05-17T15:22:12.581186",
     "status": "completed"
    },
    "tags": []
   },
   "outputs": [
    {
     "name": "stdout",
     "output_type": "stream",
     "text": [
      "Class 0: 39948 samples\n",
      "Class 1: 39948 samples\n",
      "The target variable 'y' is balanced.\n"
     ]
    }
   ],
   "source": [
    "from collections import Counter\n",
    "\n",
    "# Assuming 'y' is your target variable\n",
    "class_distribution = Counter(y_train_os)\n",
    "\n",
    "# Print the class distribution\n",
    "for class_label, count in class_distribution.items():\n",
    "    print(f\"Class {class_label}: {count} samples\")\n",
    "\n",
    "# Check if 'y' is balanced\n",
    "is_balanced = all(count == class_distribution[y_train_os[0]] for count in class_distribution.values())\n",
    "\n",
    "if is_balanced:\n",
    "    print(\"The target variable 'y' is balanced.\")\n",
    "else:\n",
    "    print(\"The target variable 'y' is imbalanced.\")"
   ]
  },
  {
   "cell_type": "code",
   "execution_count": 35,
   "id": "c7b1afac",
   "metadata": {
    "papermill": {
     "duration": 0.03524,
     "end_time": "2024-05-17T15:22:12.674523",
     "exception": false,
     "start_time": "2024-05-17T15:22:12.639283",
     "status": "completed"
    },
    "tags": []
   },
   "outputs": [],
   "source": [
    "def fit_classification_models(X, y, test_size=0.2, random_state=42):\n",
    "    \"\"\"\n",
    "    Fit classification models using XGBoost, RandomForest, and ExtraTrees classifiers.\n",
    "\n",
    "    Parameters:\n",
    "    -----------\n",
    "    X : array-like of shape (n_samples, n_features)\n",
    "        The input data.\n",
    "\n",
    "    y : array-like of shape (n_samples,)\n",
    "        The target variable.\n",
    "\n",
    "    test_size : float, default=0.2\n",
    "        The proportion of the dataset to include in the test split.\n",
    "\n",
    "    random_state : int, default=42\n",
    "        Controls the randomness of the dataset splitting.\n",
    "\n",
    "    Returns:\n",
    "    --------\n",
    "    results : dict\n",
    "        A dictionary containing the performance metrics for XGBoost, RandomForest, and ExtraTrees classifiers,\n",
    "        including training and testing results along with confusion matrices and classification reports.\n",
    "    \"\"\"\n",
    "\n",
    "    # Split the dataset into training and testing sets\n",
    "    X_train, X_test, y_train, y_test = train_test_split(X, y, test_size=test_size, random_state=random_state)\n",
    "\n",
    "    # Create pipelines for XGBoost, RandomForest, and ExtraTrees classifiers\n",
    "    pipelines = {\n",
    "        'XGBoost': Pipeline([('scaler', RobustScaler()), ('classifier', XGBClassifier())]),\n",
    "        'Random Forest': Pipeline([('scaler', RobustScaler()), ('classifier', RandomForestClassifier())]),\n",
    "        'ExtraTreesClassifier': Pipeline([('scaler', RobustScaler()), ('classifier', ExtraTreesClassifier())]),\n",
    "    }\n",
    "\n",
    "    # Fit and evaluate XGBoost, RandomForest, and ExtraTrees classifiers\n",
    "    results = {}\n",
    "\n",
    "    for classifier_name, pipeline in pipelines.items():\n",
    "        pipeline.fit(X_train, y_train)\n",
    "\n",
    "        # Training results\n",
    "        y_train_pred = pipeline.predict(X_train)\n",
    "        train_precision = round(precision_score(y_train, y_train_pred, average=\"weighted\") * 100, 1)\n",
    "        train_recall = round(recall_score(y_train, y_train_pred, average=\"weighted\") * 100, 1)\n",
    "        train_f1 = round(f1_score(y_train, y_train_pred, average=\"weighted\") * 100, 1)\n",
    "        train_conf_matrix = confusion_matrix(y_train, y_train_pred)\n",
    "        train_classification_report = classification_report(y_train, y_train_pred, output_dict=True)\n",
    "\n",
    "        # Testing results\n",
    "        y_test_pred = pipeline.predict(X_test)\n",
    "        test_precision = round(precision_score(y_test, y_test_pred, average=\"weighted\") * 100, 1)\n",
    "        test_recall = round(recall_score(y_test, y_test_pred, average=\"weighted\") * 100, 1)\n",
    "        test_f1 = round(f1_score(y_test, y_test_pred, average=\"weighted\") * 100, 1)\n",
    "        test_conf_matrix = confusion_matrix(y_test, y_test_pred)\n",
    "        test_classification_report = classification_report(y_test, y_test_pred, output_dict=True)\n",
    "\n",
    "        results[classifier_name] = {\n",
    "            'training': {\n",
    "                'precision': train_precision,\n",
    "                'recall': train_recall,\n",
    "                'f1-score': train_f1,\n",
    "                'confusion_matrix': train_conf_matrix,\n",
    "                'classification_report': train_classification_report\n",
    "            },\n",
    "            'testing': {\n",
    "                'precision': test_precision,\n",
    "                'recall': test_recall,\n",
    "                'f1-score': test_f1,\n",
    "                'confusion_matrix': test_conf_matrix,\n",
    "                'classification_report': test_classification_report\n",
    "            }\n",
    "        }\n",
    "\n",
    "    return results\n"
   ]
  },
  {
   "cell_type": "code",
   "execution_count": 36,
   "id": "2659ba9c",
   "metadata": {
    "papermill": {
     "duration": 25.527893,
     "end_time": "2024-05-17T15:22:38.220043",
     "exception": false,
     "start_time": "2024-05-17T15:22:12.692150",
     "status": "completed"
    },
    "tags": []
   },
   "outputs": [
    {
     "name": "stdout",
     "output_type": "stream",
     "text": [
      "Algorithm: XGBoost\n",
      "      Metric  Training  Testing\n",
      "0  Precision     100.0     99.8\n",
      "1     Recall     100.0     99.8\n",
      "2   F1-score     100.0     99.8\n",
      "\n",
      "\n"
     ]
    },
    {
     "data": {
      "image/png": "[encoded data removed]",
      "text/plain": [
       "<Figure size 1500x500 with 4 Axes>"
      ]
     },
     "metadata": {},
     "output_type": "display_data"
    },
    {
     "name": "stdout",
     "output_type": "stream",
     "text": [
      "Algorithm: Random Forest\n",
      "      Metric  Training  Testing\n",
      "0  Precision     100.0     99.9\n",
      "1     Recall     100.0     99.9\n",
      "2   F1-score     100.0     99.9\n",
      "\n",
      "\n"
     ]
    },
    {
     "data": {
      "image/png": "[encoded data removed]",
      "text/plain": [
       "<Figure size 1500x500 with 4 Axes>"
      ]
     },
     "metadata": {},
     "output_type": "display_data"
    },
    {
     "name": "stdout",
     "output_type": "stream",
     "text": [
      "Algorithm: ExtraTreesClassifier\n",
      "      Metric  Training  Testing\n",
      "0  Precision     100.0     99.9\n",
      "1     Recall     100.0     99.9\n",
      "2   F1-score     100.0     99.9\n",
      "\n",
      "\n"
     ]
    },
    {
     "data": {
      "image/png": "[encoded data removed]",
      "text/plain": [
       "<Figure size 1500x500 with 4 Axes>"
      ]
     },
     "metadata": {},
     "output_type": "display_data"
    }
   ],
   "source": [
    "# Call fit_classification_models() function to generate results\n",
    "results = fit_classification_models(X_train_os, y_train_os)\n",
    "\n",
    "# Plot confusion matrices and display DataFrame for each algorithm\n",
    "for classifier_name, metrics in results.items():\n",
    "    print(f\"Algorithm: {classifier_name}\")\n",
    "\n",
    "    # Display DataFrame\n",
    "    df = pd.DataFrame({\n",
    "        'Metric': ['Precision', 'Recall', 'F1-score'],\n",
    "        'Training': [metrics['training']['precision'], metrics['training']['recall'], metrics['training']['f1-score']],\n",
    "        'Testing': [metrics['testing']['precision'], metrics['testing']['recall'], metrics['testing']['f1-score']]\n",
    "    })\n",
    "    print(df)\n",
    "    print(\"\\n\")\n",
    "\n",
    "    # Plot confusion matrices\n",
    "    fig, axes = plt.subplots(1, 2, figsize=(15, 5))\n",
    "\n",
    "    # Training confusion matrix\n",
    "    sns.heatmap(metrics['training']['confusion_matrix'], annot=True, fmt='d', cmap='Blues', ax=axes[0])\n",
    "    axes[0].set_title('Training Confusion Matrix')\n",
    "    axes[0].set_xlabel('Predicted Label')\n",
    "    axes[0].set_ylabel('True Label')\n",
    "\n",
    "    # Testing confusion matrix\n",
    "    sns.heatmap(metrics['testing']['confusion_matrix'], annot=True, fmt='d', cmap='Blues', ax=axes[1])\n",
    "    axes[1].set_title('Testing Confusion Matrix')\n",
    "    axes[1].set_xlabel('Predicted Label')\n",
    "    axes[1].set_ylabel('True Label')\n",
    "\n",
    "    plt.tight_layout()\n",
    "    plt.show()\n"
   ]
  },
  {
   "cell_type": "code",
   "execution_count": 37,
   "id": "873ff42e",
   "metadata": {
    "papermill": {
     "duration": 0.044353,
     "end_time": "2024-05-17T15:22:38.284291",
     "exception": false,
     "start_time": "2024-05-17T15:22:38.239938",
     "status": "completed"
    },
    "tags": []
   },
   "outputs": [
    {
     "data": {
      "text/html": [
       "<div>\n",
       "<style scoped>\n",
       "    .dataframe tbody tr th:only-of-type {\n",
       "        vertical-align: middle;\n",
       "    }\n",
       "\n",
       "    .dataframe tbody tr th {\n",
       "        vertical-align: top;\n",
       "    }\n",
       "\n",
       "    .dataframe thead th {\n",
       "        text-align: right;\n",
       "    }\n",
       "</style>\n",
       "<table border=\"1\" class=\"dataframe\">\n",
       "  <thead>\n",
       "    <tr style=\"text-align: right;\">\n",
       "      <th></th>\n",
       "      <th>Algorithm</th>\n",
       "      <th>Training Precision</th>\n",
       "      <th>Testing Precision</th>\n",
       "      <th>Training Recall</th>\n",
       "      <th>Testing Recall</th>\n",
       "      <th>Training F1-score</th>\n",
       "      <th>Testing F1-score</th>\n",
       "    </tr>\n",
       "  </thead>\n",
       "  <tbody>\n",
       "    <tr>\n",
       "      <th>1</th>\n",
       "      <td>Random Forest</td>\n",
       "      <td>100.0</td>\n",
       "      <td>99.9</td>\n",
       "      <td>100.0</td>\n",
       "      <td>99.9</td>\n",
       "      <td>100.0</td>\n",
       "      <td>99.9</td>\n",
       "    </tr>\n",
       "    <tr>\n",
       "      <th>2</th>\n",
       "      <td>ExtraTreesClassifier</td>\n",
       "      <td>100.0</td>\n",
       "      <td>99.9</td>\n",
       "      <td>100.0</td>\n",
       "      <td>99.9</td>\n",
       "      <td>100.0</td>\n",
       "      <td>99.9</td>\n",
       "    </tr>\n",
       "    <tr>\n",
       "      <th>0</th>\n",
       "      <td>XGBoost</td>\n",
       "      <td>100.0</td>\n",
       "      <td>99.8</td>\n",
       "      <td>100.0</td>\n",
       "      <td>99.8</td>\n",
       "      <td>100.0</td>\n",
       "      <td>99.8</td>\n",
       "    </tr>\n",
       "  </tbody>\n",
       "</table>\n",
       "</div>"
      ],
      "text/plain": [
       "              Algorithm  Training Precision  Testing Precision  \\\n",
       "1         Random Forest               100.0               99.9   \n",
       "2  ExtraTreesClassifier               100.0               99.9   \n",
       "0               XGBoost               100.0               99.8   \n",
       "\n",
       "   Training Recall  Testing Recall  Training F1-score  Testing F1-score  \n",
       "1            100.0            99.9              100.0              99.9  \n",
       "2            100.0            99.9              100.0              99.9  \n",
       "0            100.0            99.8              100.0              99.8  "
      ]
     },
     "execution_count": 37,
     "metadata": {},
     "output_type": "execute_result"
    }
   ],
   "source": [
    "# Initialize a list to store the scores\n",
    "all_scores = []\n",
    "\n",
    "# Iterate over the results\n",
    "for classifier_name, metrics in results.items():\n",
    "    # Append the scores to the list\n",
    "    all_scores.append({\n",
    "        'Algorithm': classifier_name,\n",
    "        'Training Precision': metrics['training']['precision'],\n",
    "        'Testing Precision': metrics['testing']['precision'],\n",
    "        'Training Recall': metrics['training']['recall'],\n",
    "        'Testing Recall': metrics['testing']['recall'],\n",
    "        'Training F1-score': metrics['training']['f1-score'],\n",
    "        'Testing F1-score': metrics['testing']['f1-score']\n",
    "    })\n",
    "\n",
    "# Create a DataFrame from the scores list\n",
    "scores_df = pd.DataFrame(all_scores)\n",
    "\n",
    "# Sort the DataFrame by the 'Testing F1-score' column in descending order\n",
    "scores_sorted = scores_df.sort_values(by='Testing F1-score', ascending=False)\n",
    "\n",
    "# Display the sorted DataFrame\n",
    "scores_sorted"
   ]
  },
  {
   "cell_type": "markdown",
   "id": "f6fac6fb",
   "metadata": {
    "papermill": {
     "duration": 0.019176,
     "end_time": "2024-05-17T15:22:38.323654",
     "exception": false,
     "start_time": "2024-05-17T15:22:38.304478",
     "status": "completed"
    },
    "tags": []
   },
   "source": [
    "## Choosing the XGBoost Model as our Final Model"
   ]
  },
  {
   "cell_type": "code",
   "execution_count": 38,
   "id": "ee232810",
   "metadata": {
    "papermill": {
     "duration": 0.617002,
     "end_time": "2024-05-17T15:22:38.960219",
     "exception": false,
     "start_time": "2024-05-17T15:22:38.343217",
     "status": "completed"
    },
    "tags": []
   },
   "outputs": [
    {
     "name": "stdout",
     "output_type": "stream",
     "text": [
      "Training F1-score: 0.9998591086272485\n",
      "Testing F1-score: 0.9983176521901677\n"
     ]
    }
   ],
   "source": [
    "from xgboost import XGBClassifier\n",
    "from sklearn.model_selection import train_test_split\n",
    "from sklearn.metrics import f1_score\n",
    "import joblib\n",
    "\n",
    "# Assuming you have your data in X_train_os, y_train_os\n",
    "# Split the data into training and testing sets\n",
    "X_train, X_test, y_train, y_test = train_test_split(X_train_os, y_train_os, test_size=0.2, random_state=42)\n",
    "\n",
    "# Define and train the XGBoost model\n",
    "xgb_model = XGBClassifier()\n",
    "xgb_model.fit(X_train, y_train)\n",
    "\n",
    "# Make predictions\n",
    "y_pred_train = xgb_model.predict(X_train)\n",
    "y_pred_test = xgb_model.predict(X_test)\n",
    "\n",
    "# Evaluate the model using F1 score\n",
    "train_f1 = f1_score(y_train, y_pred_train)\n",
    "test_f1 = f1_score(y_test, y_pred_test)\n",
    "\n",
    "print(f\"Training F1-score: {train_f1}\")\n",
    "print(f\"Testing F1-score: {test_f1}\")\n"
   ]
  },
  {
   "cell_type": "markdown",
   "id": "cf4cc972",
   "metadata": {
    "papermill": {
     "duration": 0.020101,
     "end_time": "2024-05-17T15:22:39.000290",
     "exception": false,
     "start_time": "2024-05-17T15:22:38.980189",
     "status": "completed"
    },
    "tags": []
   },
   "source": [
    "## Saving the Model in Joblib and Pickle format"
   ]
  },
  {
   "cell_type": "code",
   "execution_count": 39,
   "id": "ccad7473",
   "metadata": {
    "papermill": {
     "duration": 0.040401,
     "end_time": "2024-05-17T15:22:39.061675",
     "exception": false,
     "start_time": "2024-05-17T15:22:39.021274",
     "status": "completed"
    },
    "tags": []
   },
   "outputs": [],
   "source": [
    "import pickle\n",
    "import joblib\n",
    "\n",
    "# Save the trained model using joblib\n",
    "joblib.dump(xgb_model, 'aml_model.joblib')\n",
    "\n",
    "\n",
    "# Save the trained model using pickle\n",
    "with open('aml_model.pkl', 'wb') as file:\n",
    "    pickle.dump(xgb_model, file)"
   ]
  },
  {
   "cell_type": "markdown",
   "id": "b9d43f51",
   "metadata": {
    "papermill": {
     "duration": 0.019967,
     "end_time": "2024-05-17T15:22:39.101768",
     "exception": false,
     "start_time": "2024-05-17T15:22:39.081801",
     "status": "completed"
    },
    "tags": []
   },
   "source": [
    "## Load the pickle model"
   ]
  },
  {
   "cell_type": "code",
   "execution_count": 40,
   "id": "19fdbeff",
   "metadata": {
    "papermill": {
     "duration": 0.038433,
     "end_time": "2024-05-17T15:22:39.160872",
     "exception": false,
     "start_time": "2024-05-17T15:22:39.122439",
     "status": "completed"
    },
    "tags": []
   },
   "outputs": [],
   "source": [
    "import pickle\n",
    "\n",
    "# Load the trained model using pickle\n",
    "with open('aml_model.pkl', 'rb') as file:\n",
    "    loaded_model_pickle = pickle.load(file)"
   ]
  },
  {
   "cell_type": "markdown",
   "id": "47a7ebdc",
   "metadata": {
    "papermill": {
     "duration": 0.020256,
     "end_time": "2024-05-17T15:22:39.201452",
     "exception": false,
     "start_time": "2024-05-17T15:22:39.181196",
     "status": "completed"
    },
    "tags": []
   },
   "source": [
    "## Make Predictions on the Pickle model"
   ]
  },
  {
   "cell_type": "code",
   "execution_count": 41,
   "id": "2b4763c4",
   "metadata": {
    "papermill": {
     "duration": 0.05272,
     "end_time": "2024-05-17T15:22:39.274193",
     "exception": false,
     "start_time": "2024-05-17T15:22:39.221473",
     "status": "completed"
    },
    "tags": []
   },
   "outputs": [],
   "source": [
    "# Make predictions using the loaded model from pickle\n",
    "predictions_pickle = loaded_model_pickle.predict(X_test)"
   ]
  },
  {
   "cell_type": "code",
   "execution_count": 42,
   "id": "f447b99e",
   "metadata": {
    "papermill": {
     "duration": 0.030781,
     "end_time": "2024-05-17T15:22:39.325212",
     "exception": false,
     "start_time": "2024-05-17T15:22:39.294431",
     "status": "completed"
    },
    "tags": []
   },
   "outputs": [
    {
     "name": "stdout",
     "output_type": "stream",
     "text": [
      "[0 1 0 1 1 0 0 1 1 0 0 0 0 0 0 0 0 1 1 0 1 0 1 0 0 0 1 1 0 0 1 0 0 0 0 1 1\n",
      " 1 1 1 1 0 0 0 0 1 0 1 1 0]\n"
     ]
    }
   ],
   "source": [
    "print(predictions_pickle[:50])"
   ]
  },
  {
   "cell_type": "markdown",
   "id": "b2638667",
   "metadata": {
    "papermill": {
     "duration": 0.019998,
     "end_time": "2024-05-17T15:22:39.365559",
     "exception": false,
     "start_time": "2024-05-17T15:22:39.345561",
     "status": "completed"
    },
    "tags": []
   },
   "source": [
    "## Load the Joblib model"
   ]
  },
  {
   "cell_type": "code",
   "execution_count": 43,
   "id": "3b9f10d0",
   "metadata": {
    "papermill": {
     "duration": 0.039199,
     "end_time": "2024-05-17T15:22:39.424974",
     "exception": false,
     "start_time": "2024-05-17T15:22:39.385775",
     "status": "completed"
    },
    "tags": []
   },
   "outputs": [],
   "source": [
    "import joblib\n",
    "\n",
    "# Load the trained model using joblib\n",
    "loaded_model_joblib = joblib.load('aml_model.joblib')"
   ]
  },
  {
   "cell_type": "markdown",
   "id": "bafe55ec",
   "metadata": {
    "papermill": {
     "duration": 0.020108,
     "end_time": "2024-05-17T15:22:39.466389",
     "exception": false,
     "start_time": "2024-05-17T15:22:39.446281",
     "status": "completed"
    },
    "tags": []
   },
   "source": [
    "## Make predictions on the joblib model"
   ]
  },
  {
   "cell_type": "code",
   "execution_count": 44,
   "id": "2c0b8a11",
   "metadata": {
    "papermill": {
     "duration": 0.052383,
     "end_time": "2024-05-17T15:22:39.538948",
     "exception": false,
     "start_time": "2024-05-17T15:22:39.486565",
     "status": "completed"
    },
    "tags": []
   },
   "outputs": [],
   "source": [
    "# Make predictions using the loaded model from joblib\n",
    "predictions_joblib = loaded_model_joblib.predict(X_test)"
   ]
  },
  {
   "cell_type": "code",
   "execution_count": 45,
   "id": "b56fc823",
   "metadata": {
    "papermill": {
     "duration": 0.031004,
     "end_time": "2024-05-17T15:22:39.590130",
     "exception": false,
     "start_time": "2024-05-17T15:22:39.559126",
     "status": "completed"
    },
    "tags": []
   },
   "outputs": [
    {
     "name": "stdout",
     "output_type": "stream",
     "text": [
      "[0 1 0 1 1 0 0 1 1 0 0 0 0 0 0 0 0 1 1 0 1 0 1 0 0 0 1 1 0 0 1 0 0 0 0 1 1\n",
      " 1 1 1 1 0 0 0 0 1 0 1 1 0]\n"
     ]
    }
   ],
   "source": [
    "print(predictions_joblib[:50])"
   ]
  }
 ],
 "metadata": {
  "kaggle": {
   "accelerator": "none",
   "dataSources": [
    {
     "datasetId": 2948142,
     "sourceId": 5080714,
     "sourceType": "datasetVersion"
    }
   ],
   "dockerImageVersionId": 30698,
   "isGpuEnabled": false,
   "isInternetEnabled": true,
   "language": "python",
   "sourceType": "notebook"
  },
  "kernelspec": {
   "display_name": "aml_exp",
   "language": "python",
   "name": "aml_exp"
  },
  "language_info": {
   "codemirror_mode": {
    "name": "ipython",
    "version": 3
   },
   "file_extension": ".py",
   "mimetype": "text/x-python",
   "name": "python",
   "nbconvert_exporter": "python",
   "pygments_lexer": "ipython3",
   "version": "3.10.14"
  },
  "papermill": {
   "default_parameters": {},
   "duration": 59.533658,
   "end_time": "2024-05-17T15:22:40.835955",
   "environment_variables": {},
   "exception": null,
   "input_path": "__notebook__.ipynb",
   "output_path": "__notebook__.ipynb",
   "parameters": {},
   "start_time": "2024-05-17T15:21:41.302297",
   "version": "2.5.0"
  }
 },
 "nbformat": 4,
 "nbformat_minor": 5
}
